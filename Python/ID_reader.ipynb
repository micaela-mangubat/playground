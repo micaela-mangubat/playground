{
  "nbformat": 4,
  "nbformat_minor": 0,
  "metadata": {
    "colab": {
      "name": "ID_reader.ipynb",
      "provenance": [],
      "collapsed_sections": [],
      "toc_visible": true,
      "authorship_tag": "ABX9TyM+Xs+IC0XP7qVhFbtpuYSi",
      "include_colab_link": true
    },
    "kernelspec": {
      "name": "python3",
      "display_name": "Python 3"
    },
    "accelerator": "GPU"
  },
  "cells": [
    {
      "cell_type": "markdown",
      "metadata": {
        "id": "view-in-github",
        "colab_type": "text"
      },
      "source": [
        "<a href=\"https://colab.research.google.com/github/micaela-mangubat/playground/blob/master/ID_reader.ipynb\" target=\"_parent\"><img src=\"https://colab.research.google.com/assets/colab-badge.svg\" alt=\"Open In Colab\"/></a>"
      ]
    },
    {
      "cell_type": "markdown",
      "metadata": {
        "id": "hGH5Pl_3Gllq",
        "colab_type": "text"
      },
      "source": [
        "# Basic OCR processing"
      ]
    },
    {
      "cell_type": "code",
      "metadata": {
        "id": "cR3KGCBaBsF7",
        "colab_type": "code",
        "colab": {}
      },
      "source": [
        "# Install tesseract\n",
        "!sudo apt install tesseract-ocr\n",
        "!apt install libtesseract-dev\n",
        "!pip install pytesseract\n",
        "!pip install pyocr"
      ],
      "execution_count": 0,
      "outputs": []
    },
    {
      "cell_type": "code",
      "metadata": {
        "id": "X84sW6QNEmG5",
        "colab_type": "code",
        "colab": {}
      },
      "source": [
        "# Import module dependencies\n",
        "import pytesseract\n",
        "import shutil\n",
        "import os\n",
        "import random\n",
        "try:\n",
        " from PIL import Image\n",
        "except ImportError:\n",
        " import Image\n",
        "import cv2\n",
        " %matplotlib inline\n",
        "import matplotlib.pyplot as plt\n",
        "from pylab import rcParams"
      ],
      "execution_count": 0,
      "outputs": []
    },
    {
      "cell_type": "code",
      "metadata": {
        "id": "2RNRTJsHgeoR",
        "colab_type": "code",
        "colab": {}
      },
      "source": [
        "from PIL import Image\n",
        "import sys\n",
        "import pyocr\n",
        "import pyocr.builders"
      ],
      "execution_count": 0,
      "outputs": []
    },
    {
      "cell_type": "code",
      "metadata": {
        "id": "p9ZlHsxjFd-n",
        "colab_type": "code",
        "colab": {}
      },
      "source": [
        "# Just checking OpenCV version\n",
        "cv2.__version__"
      ],
      "execution_count": 0,
      "outputs": []
    },
    {
      "cell_type": "code",
      "metadata": {
        "id": "aR5KdKPMfR6J",
        "colab_type": "code",
        "colab": {}
      },
      "source": [
        "#Import trained data\n",
        "!curl -L https://github.com/tesseract-ocr/tessdata/raw/master/eng.traineddata > eng.traineddata\n",
        "!cp eng.traineddata /usr/share/tesseract-ocr/tessdata"
      ],
      "execution_count": 0,
      "outputs": []
    },
    {
      "cell_type": "code",
      "metadata": {
        "id": "HEtaTmv9EpGM",
        "colab_type": "code",
        "colab": {}
      },
      "source": [
        "# Upload file from pc\n",
        "from google.colab import files\n",
        "uploaded = files.upload()"
      ],
      "execution_count": 0,
      "outputs": []
    },
    {
      "cell_type": "code",
      "metadata": {
        "id": "Vg2osjuTBnRv",
        "colab_type": "code",
        "colab": {}
      },
      "source": [
        "# OR Mount drive for data\n",
        "from google.colab import drive\n",
        "drive.mount('/content/drive')"
      ],
      "execution_count": 0,
      "outputs": []
    },
    {
      "cell_type": "code",
      "metadata": {
        "id": "TbFfqs8Mh-jh",
        "colab_type": "code",
        "colab": {}
      },
      "source": [
        "#Show image after grayscale processing with OpenCV\n",
        "image_path_in_colab='/content/drive/My Drive/testdata/license.jpg'\n",
        "img = cv2.imread(image_path_in_colab,0)\n",
        "img = cv2.cvtColor(img, cv2.COLOR_BGR2RGB)\n",
        "plt.figure(figsize=(15,15))\n",
        "plt.axis(\"off\")\n",
        "plt.imshow(img)"
      ],
      "execution_count": 0,
      "outputs": []
    },
    {
      "cell_type": "code",
      "metadata": {
        "id": "CMwQo2QZgP6O",
        "colab_type": "code",
        "colab": {
          "base_uri": "https://localhost:8080/",
          "height": 36
        },
        "outputId": "eb2c9c0b-6249-49c5-ce86-b326a8dde230"
      },
      "source": [
        "#Check pyocr tool available\n",
        "tools = pyocr.get_available_tools()\n",
        "if len(tools) == 0:\n",
        "    print(\"OCR tool is not found\")\n",
        "    sys.exit(1)\n",
        "\n",
        "#Display tool name\n",
        "tool = tools[0]\n",
        "print(\"OCR tool is '%s'\" % (tool.get_name()))"
      ],
      "execution_count": 65,
      "outputs": [
        {
          "output_type": "stream",
          "text": [
            "OCR tool is 'Tesseract (sh)'\n"
          ],
          "name": "stdout"
        }
      ]
    },
    {
      "cell_type": "code",
      "metadata": {
        "id": "bk0wS25pg3fD",
        "colab_type": "code",
        "colab": {
          "base_uri": "https://localhost:8080/",
          "height": 54
        },
        "outputId": "be097717-bbe3-49e2-bfa0-2accb12b7015"
      },
      "source": [
        "langs = tool.get_available_languages()\n",
        "print(\"Available languages: %s\" % \", \".join(langs))\n",
        "lang = langs[0]\n",
        "print(\"Will use lang '%s'\" % (lang))"
      ],
      "execution_count": 66,
      "outputs": [
        {
          "output_type": "stream",
          "text": [
            "Available languages: eng, osd\n",
            "Will use lang 'eng'\n"
          ],
          "name": "stdout"
        }
      ]
    },
    {
      "cell_type": "code",
      "metadata": {
        "id": "aXlyn8SfgBdr",
        "colab_type": "code",
        "colab": {
          "base_uri": "https://localhost:8080/",
          "height": 335
        },
        "outputId": "24ab9e0f-3208-462a-c975-e655ce803352"
      },
      "source": [
        "#OCR processing using pyocr and existing traineddata\n",
        "#image_path_in_colab='/content/drive/My Drive/testdata/license.jpg'\n",
        "txt = tool.image_to_string(\n",
        "    Image.open(image_path_in_colab),\n",
        "    lang=\"eng\",\n",
        "    builder=pyocr.builders.TextBuilder(tesseract_layout=6)\n",
        ")\n",
        "print( txt )"
      ],
      "execution_count": 74,
      "outputs": [
        {
          "output_type": "stream",
          "text": [
            "OORT TOT MRNA aN uaahn rani JOR\n",
            "ee Ret oF inn a S\n",
            "Ro = BY Vv  DERARTME PTR vi a or a Wank\n",
            "| le hates eeieeonrs ce)\n",
            "||| SNE\" NON-PROFESSIONAL DRIVER'S LICENCE GY\n",
            "Ze —.. . Le\n",
            "a Nationality Gender Date of Birth Weight (kg) _‘Height(m)\n",
            "; fos Filipino M 1990/01/01 70 = 1.75\n",
            "ve Se a\n",
            "BAN ke oy . ———_— — g\n",
            "ae licence No. | Expitation Date Agency Code Blood type\n",
            "—— mm 2021/01/01 cio AA\n",
            "pyres Vee: Hei L,\n",
            "ee NI Be\n",
            "(HE ON LE HES a |\n",
            "1 ANSARI STINE\n",
            "HOON EM ,\n"
          ],
          "name": "stdout"
        }
      ]
    },
    {
      "cell_type": "code",
      "metadata": {
        "id": "8AMRs3GoFjCu",
        "colab_type": "code",
        "colab": {
          "base_uri": "https://localhost:8080/",
          "height": 578
        },
        "outputId": "d0127ce5-8f08-487c-de99-b942d391b24d"
      },
      "source": [
        "#OCR processing with OpenCV grayscale and pytesseract\n",
        "#Load file and process. *Remember to change the file path\n",
        "extractedInformation = pytesseract.image_to_string(img)\n",
        "print(extractedInformation)"
      ],
      "execution_count": 75,
      "outputs": [
        {
          "output_type": "stream",
          "text": [
            "PUBLIC OF THE PHILIPPINES\n",
            "EPARTMENT OF TRANSPORTATION\n",
            "___LAND TRANSPORTATION OFFICE\n",
            "~NON-PROFESSIONAL DRIVER'S LICENCE\n",
            "Last Name. First Name. Middle Name\n",
            "SANTOS, JOSE, MARIANO\n",
            "Nationality Gender Date of Birth\n",
            "\n",
            "   \n",
            " \n",
            "\n",
            "  \n",
            " \n",
            "\n",
            "Filipino = =M 1990/01/04 175\n",
            "Address\n",
            "\n",
            "700) aeenes2 s= aaa\n",
            "\n",
            "TW bere See\n",
            "\n",
            "Licence No. Expiration Date Agency Code Blood type\n",
            "SS 2021/01/01 C10 A\n",
            "\n",
            "Restrictions Conditions\n",
            "2\n",
            "en\n",
            "\n",
            "EDGAR 'C. GALVANTE\n",
            "Assistant Secretary\n"
          ],
          "name": "stdout"
        }
      ]
    }
  ]
}
