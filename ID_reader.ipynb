{
  "nbformat": 4,
  "nbformat_minor": 0,
  "metadata": {
    "colab": {
      "name": "ID_reader.ipynb",
      "provenance": [],
      "collapsed_sections": [],
      "authorship_tag": "ABX9TyP9Gp3PLK8mU1xK11Cx7tKv",
      "include_colab_link": true
    },
    "kernelspec": {
      "name": "python3",
      "display_name": "Python 3"
    }
  },
  "cells": [
    {
      "cell_type": "markdown",
      "metadata": {
        "id": "view-in-github",
        "colab_type": "text"
      },
      "source": [
        "<a href=\"https://colab.research.google.com/github/micaela-mangubat/playground/blob/master/ID_reader.ipynb\" target=\"_parent\"><img src=\"https://colab.research.google.com/assets/colab-badge.svg\" alt=\"Open In Colab\"/></a>"
      ]
    },
    {
      "cell_type": "markdown",
      "metadata": {
        "id": "hGH5Pl_3Gllq",
        "colab_type": "text"
      },
      "source": [
        "# Basic OCR processing"
      ]
    },
    {
      "cell_type": "code",
      "metadata": {
        "id": "cR3KGCBaBsF7",
        "colab_type": "code",
        "colab": {}
      },
      "source": [
        "# Install tesseract\n",
        "!sudo apt install tesseract-ocr\n",
        "!pip install pytesseract"
      ],
      "execution_count": 0,
      "outputs": []
    },
    {
      "cell_type": "code",
      "metadata": {
        "id": "X84sW6QNEmG5",
        "colab_type": "code",
        "colab": {}
      },
      "source": [
        "# Import module dependencies\n",
        "import pytesseract\n",
        "import shutil\n",
        "import os\n",
        "import random\n",
        "try:\n",
        " from PIL import Image\n",
        "except ImportError:\n",
        " import Image\n",
        "import cv2"
      ],
      "execution_count": 0,
      "outputs": []
    },
    {
      "cell_type": "code",
      "metadata": {
        "id": "p9ZlHsxjFd-n",
        "colab_type": "code",
        "colab": {}
      },
      "source": [
        "# Just checking OpenCV version\n",
        "cv2.__version__"
      ],
      "execution_count": 0,
      "outputs": []
    },
    {
      "cell_type": "code",
      "metadata": {
        "id": "HEtaTmv9EpGM",
        "colab_type": "code",
        "colab": {}
      },
      "source": [
        "# Upload file from pc\n",
        "from google.colab import files\n",
        "uploaded = files.upload()"
      ],
      "execution_count": 0,
      "outputs": []
    },
    {
      "cell_type": "code",
      "metadata": {
        "id": "8AMRs3GoFjCu",
        "colab_type": "code",
        "colab": {}
      },
      "source": [
        "# Load file and process. *Remember to change the filename\n",
        "image_path_in_colab='license.jpg'\n",
        "img = cv2.imread(image_path_in_colab, 0)\n",
        "extractedInformation = pytesseract.image_to_string(img)\n",
        "print(extractedInformation)"
      ],
      "execution_count": 0,
      "outputs": []
    }
  ]
}